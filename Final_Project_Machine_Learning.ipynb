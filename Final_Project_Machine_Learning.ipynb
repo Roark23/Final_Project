{
  "nbformat": 4,
  "nbformat_minor": 0,
  "metadata": {
    "colab": {
      "name": "FInal_Project_Machine_Learning.ipynb",
      "provenance": [],
      "authorship_tag": "ABX9TyMxB2BzslmACDBGK6a13Gn7",
      "include_colab_link": true
    },
    "kernelspec": {
      "name": "python3",
      "display_name": "Python 3"
    },
    "language_info": {
      "name": "python"
    }
  },
  "cells": [
    {
      "cell_type": "markdown",
      "metadata": {
        "id": "view-in-github",
        "colab_type": "text"
      },
      "source": [
        "<a href=\"https://colab.research.google.com/github/Roark23/Final_Project/blob/ML_Nicole/Final_Project_Machine_Learning.ipynb\" target=\"_parent\"><img src=\"https://colab.research.google.com/assets/colab-badge.svg\" alt=\"Open In Colab\"/></a>"
      ]
    },
    {
      "cell_type": "code",
      "execution_count": 1,
      "metadata": {
        "id": "ALOiActN213E"
      },
      "outputs": [],
      "source": [
        "# Import dependencies\n",
        "import pandas as pd\n",
        "from path import pathfrom sklearn.ensemble import RandomForestClassifier\n",
        "from sklearn.preprocessing import StandardScaler\n",
        "from sklearn.model_selection import train_test_split\n",
        "from sklearn.metrics import confusion_matrix, accuracy_score, classification_report"
      ]
    },
    {
      "cell_type": "code",
      "source": [
        "# Import and read csv file\n",
        "project_df = pd.read_csv(\"\")\n",
        "project_df.head()"
      ],
      "metadata": {
        "id": "R-nj6DFz7F8Q"
      },
      "execution_count": null,
      "outputs": []
    },
    {
      "cell_type": "code",
      "source": [
        "# Define the features set\n",
        "X = \n",
        "X.head()"
      ],
      "metadata": {
        "id": "5PCidzOp7F_d"
      },
      "execution_count": null,
      "outputs": []
    },
    {
      "cell_type": "code",
      "source": [
        "# Define the target set\n",
        "y = "
      ],
      "metadata": {
        "id": "XoTaT84h7GB9"
      },
      "execution_count": null,
      "outputs": []
    },
    {
      "cell_type": "code",
      "source": [
        "# Splitting into Train and Test sets\n",
        "X_train, X_test, y_train, y_test = train_test_split(X, y, random_state=78)"
      ],
      "metadata": {
        "id": "nIZAvlY97GEA"
      },
      "execution_count": null,
      "outputs": []
    },
    {
      "cell_type": "code",
      "source": [
        "# Creating a StandardScaler instance\n",
        "scaler = StandardScaler()\n",
        "\n",
        "# Fitting the Standard Scaler with the training data\n",
        "X_scaler = scaler.fit(X_train)\n",
        "\n",
        "# Scaling the data\n",
        "X_train_scaled = X_scaler.transform(X_train)\n",
        "X_test_scaled = X_scaler.transform(X_test)"
      ],
      "metadata": {
        "id": "foejezC17GHF"
      },
      "execution_count": null,
      "outputs": []
    },
    {
      "cell_type": "code",
      "source": [
        "# Create a random forest classifier\n",
        "rf_model = RandomForestClassifier(n_estimators=128, random_state=78)"
      ],
      "metadata": {
        "id": "hV2fx11_7GJR"
      },
      "execution_count": null,
      "outputs": []
    },
    {
      "cell_type": "code",
      "source": [
        "# Fitting the model\n",
        "rf_model = rf_model.fit(X_train_scaled, y_train)"
      ],
      "metadata": {
        "id": "T3GKnkYm7GLx"
      },
      "execution_count": null,
      "outputs": []
    },
    {
      "cell_type": "code",
      "source": [
        "# Making predictions using the testing data\n",
        "predictions = rf_model.predict(X_test_scaled)"
      ],
      "metadata": {
        "id": "d3n7dR8e7GOi"
      },
      "execution_count": null,
      "outputs": []
    },
    {
      "cell_type": "code",
      "source": [
        "# Calculating the confusiion matrix\n",
        "cm = confusion_matrix(y_test, predictions)"
      ],
      "metadata": {
        "id": "AuHi3eLV7GRB"
      },
      "execution_count": null,
      "outputs": []
    },
    {
      "cell_type": "code",
      "source": [
        "# Create a Dataframe from the confusion matrix\n",
        "cm_df = pd.Dataframe(cm, index=[\"Actual 0\", \"Actual 1\"], columns=['Predicted 0', 'Predicted 1'])\n",
        "\n",
        "cm_df"
      ],
      "metadata": {
        "id": "Y2iwptPm7GTw"
      },
      "execution_count": null,
      "outputs": []
    },
    {
      "cell_type": "code",
      "source": [
        "# Calculating the accuracy score\n",
        "acc_score = accuracy_score(y_test, predictions)"
      ],
      "metadata": {
        "id": "Z_NCliTt_u9h"
      },
      "execution_count": null,
      "outputs": []
    },
    {
      "cell_type": "code",
      "source": [
        "# Displaying results\n",
        "print(\"Confusion Matrix\")\n",
        "display(cm_df)\n",
        "\n",
        "print(\"Accuracy Score: {acc_score}\")\n",
        "print(\"Classification Report\")\n",
        "print(classification_report(y_test, predictions))"
      ],
      "metadata": {
        "id": "aKns_Eon_0XA"
      },
      "execution_count": null,
      "outputs": []
    },
    {
      "cell_type": "code",
      "source": [
        "# Rank the importance in Random Forest Model\n",
        "importances = rf_model.feature_importances_\n",
        "\n",
        "# Sorting features by their importance\n",
        "sorted(zip(rf_model.feature_importances_, X.columns), reverse=True)"
      ],
      "metadata": {
        "id": "g47wmykoAGFb"
      },
      "execution_count": null,
      "outputs": []
    }
  ]
}