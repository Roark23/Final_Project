{
  "nbformat": 4,
  "nbformat_minor": 0,
  "metadata": {
    "colab": {
      "name": "ML_Part2.ipynb",
      "provenance": [],
      "collapsed_sections": [],
      "toc_visible": true,
      "authorship_tag": "ABX9TyMT9in5cgjQA90HUzWnEbMt",
      "include_colab_link": true
    },
    "kernelspec": {
      "name": "python3",
      "display_name": "Python 3"
    },
    "language_info": {
      "name": "python"
    }
  },
  "cells": [
    {
      "cell_type": "markdown",
      "metadata": {
        "id": "view-in-github",
        "colab_type": "text"
      },
      "source": [
        "<a href=\"https://colab.research.google.com/github/Roark23/Final_Project/blob/ML_Nicole/ML_Part2.ipynb\" target=\"_parent\"><img src=\"https://colab.research.google.com/assets/colab-badge.svg\" alt=\"Open In Colab\"/></a>"
      ]
    },
    {
      "cell_type": "code",
      "execution_count": 1,
      "metadata": {
        "id": "9IwabdW9uxgI"
      },
      "outputs": [],
      "source": [
        "#Import Dependencies\n",
        "import pandas as pd\n",
        "import numpy as np\n",
        "import matplotlib.pyplot as plt\n",
        "from sklearn.preprocessing import MinMaxScaler\n",
        "from keras.models import Sequential, load_model\n",
        "from keras.layers import LSTM, Dense, Dropout"
      ]
    },
    {
      "cell_type": "code",
      "source": [
        "#Read data into dataframe\n",
        "data = pd.read_csv()"
      ],
      "metadata": {
        "id": "3aXLFw-Zu74Q"
      },
      "execution_count": null,
      "outputs": []
    },
    {
      "cell_type": "code",
      "source": [
        "data.shape"
      ],
      "metadata": {
        "id": "fjN5rxvPu79I"
      },
      "execution_count": null,
      "outputs": []
    },
    {
      "cell_type": "code",
      "source": [
        "data = data['Open'].values\n",
        "data = data.reshape(-1,1)"
      ],
      "metadata": {
        "id": "sEyflkkwvIwH"
      },
      "execution_count": null,
      "outputs": []
    },
    {
      "cell_type": "code",
      "source": [
        "#Creating Test and Train Datasets\n",
        "dataset_train = np.array(data[:int(data.shape[0]*0.8)])\n",
        "dataset_test = np.array(data[int(data.shape[0]*0.8):])"
      ],
      "metadata": {
        "id": "TWe4yH82vO33"
      },
      "execution_count": null,
      "outputs": []
    },
    {
      "cell_type": "code",
      "source": [
        "scaler = MinMaxScaler(feature_range=(0,1))\n",
        "dataset_train = scaler.fit_transform(dataset_train)\n",
        "dataset_test = scaler.transform(dataset_test)"
      ],
      "metadata": {
        "id": "Fk72M9fqvWNF"
      },
      "execution_count": null,
      "outputs": []
    },
    {
      "cell_type": "code",
      "source": [
        "#Create function to make x and y train and test values\n",
        "def create_dataset(df):\n",
        "    x = []\n",
        "    y = []\n",
        "    for i in range(50, df.shape[0]):\n",
        "        x.append(df[i-50:i, 0])\n",
        "        y.append(df[i, 0])\n",
        "    x = np.array(x)\n",
        "    y = np.array(y)\n",
        "    return x,y"
      ],
      "metadata": {
        "id": "DFroez4dvZUj"
      },
      "execution_count": null,
      "outputs": []
    },
    {
      "cell_type": "code",
      "source": [
        "x_train, y_train = create_dataset(dataset_train)\n",
        "x_test, y_test = create_dataset(dataset_test)"
      ],
      "metadata": {
        "id": "tnLgLs80vcTi"
      },
      "execution_count": null,
      "outputs": []
    },
    {
      "cell_type": "code",
      "source": [
        "#Reshape data to make array so we can use LSTM Layer\n",
        "\n",
        "x_train = np.reshape(x_train, (x_train.shape[0], x_train.shape[1], 1))\n",
        "x_test = np.reshape(x_test, (x_test.shape[0], x_test.shape[1], 1))"
      ],
      "metadata": {
        "id": "i33o2EDbvf3v"
      },
      "execution_count": null,
      "outputs": []
    },
    {
      "cell_type": "code",
      "source": [
        "# Build Model\n",
        "\n",
        "model = Sequential()\n",
        "model.add(LSTM(units=96, return_sequences=True, input_shape=(x_train.shape[1], 1)))\n",
        "model.add(Dropout(0.2))\n",
        "model.add(LSTM(units=96,return_sequences=True))\n",
        "model.add(Dropout(0.2))\n",
        "model.add(LSTM(units=96,return_sequences=True))\n",
        "model.add(Dropout(0.2))\n",
        "model.add(LSTM(units=96))\n",
        "model.add(Dropout(0.2))\n",
        "model.add(Dense(units=1))"
      ],
      "metadata": {
        "id": "DmOO1WdlvtBB"
      },
      "execution_count": null,
      "outputs": []
    },
    {
      "cell_type": "code",
      "source": [
        "# Reshape data\n",
        "\n",
        "x_train = np.reshape(x_train, (x_train.shape[0], x_train.shape[1], 1))\n",
        "x_test = np.reshape(x_test, (x_test.shape[0], x_test.shape[1], 1))"
      ],
      "metadata": {
        "id": "qM3qmqQVvzDW"
      },
      "execution_count": null,
      "outputs": []
    },
    {
      "cell_type": "code",
      "source": [
        "# Compile Model\n",
        "model.compile(loss='mean_squared_error', optimizer='adam')"
      ],
      "metadata": {
        "id": "oRPLZpGsv1wS"
      },
      "execution_count": null,
      "outputs": []
    },
    {
      "cell_type": "code",
      "source": [
        "#Start Model Training\n",
        "model.fit(x_train, y_train, epochs=50, batch_size=32)\n",
        "model.save('stock_prediction.h5')"
      ],
      "metadata": {
        "id": "TW3Ngahpv447"
      },
      "execution_count": null,
      "outputs": []
    },
    {
      "cell_type": "code",
      "source": [
        "# Load model\n",
        "model = load_model('stock_predictino.h5')"
      ],
      "metadata": {
        "id": "RtzijHldv82h"
      },
      "execution_count": null,
      "outputs": []
    },
    {
      "cell_type": "code",
      "source": [
        "# Visualize Data\n",
        "predictions = model.predict(x_test)\n",
        "predictions = scaler.inverse_transform(predictions)\n",
        "y_test_scaled = scaler.inverse_transform(y_test.reshape(-1, 1))\n",
        "\n",
        "fig, ax = plt.subplots(figsize=(16,8))\n",
        "ax.plot(y_test_scaled, color='red', label='Original price')\n",
        "plt.plot(predictions, color='blue', label='Predicted price')\n",
        "plt.legend()"
      ],
      "metadata": {
        "id": "IQVhteclwBIe"
      },
      "execution_count": null,
      "outputs": []
    }
  ]
}